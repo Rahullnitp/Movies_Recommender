{
  "nbformat": 4,
  "nbformat_minor": 0,
  "metadata": {
    "colab": {
      "name": "Movies_Recommender.ipynb",
      "provenance": [],
      "collapsed_sections": []
    },
    "kernelspec": {
      "name": "python3",
      "display_name": "Python 3"
    },
    "accelerator": "GPU"
  },
  "cells": [
    {
      "cell_type": "markdown",
      "metadata": {
        "id": "s-3GPneEK5f9",
        "colab_type": "text"
      },
      "source": [
        "#Introduction\n",
        "\n",
        "A simple movies recommender system using movies dataset that are listed in the \"MovieLens Latest Full Dataset\" comprising of 26 million ratings on 45,000 movies from 27,000 users. Let us have a look at the Data that are available to us for data preprocessing and feature engineering."
      ]
    },
    {
      "cell_type": "code",
      "metadata": {
        "id": "mgRCBYPMq4iU",
        "colab_type": "code",
        "outputId": "8f115e71-35c2-4651-c266-b64cc3e9f3fd",
        "colab": {
          "resources": {
            "http://localhost:8080/nbextensions/google.colab/files.js": {
              "data": "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",
              "ok": true,
              "headers": [
                [
                  "content-type",
                  "application/javascript"
                ]
              ],
              "status": 200,
              "status_text": ""
            }
          },
          "base_uri": "https://localhost:8080/",
          "height": 74
        }
      },
      "source": [
        "from google.colab import files\n",
        "uploaded=files.upload()"
      ],
      "execution_count": 0,
      "outputs": [
        {
          "output_type": "display_data",
          "data": {
            "text/html": [
              "\n",
              "     <input type=\"file\" id=\"files-38af96c1-96f7-4e7b-86af-7b85b619683d\" name=\"files[]\" multiple disabled />\n",
              "     <output id=\"result-38af96c1-96f7-4e7b-86af-7b85b619683d\">\n",
              "      Upload widget is only available when the cell has been executed in the\n",
              "      current browser session. Please rerun this cell to enable.\n",
              "      </output>\n",
              "      <script src=\"/nbextensions/google.colab/files.js\"></script> "
            ],
            "text/plain": [
              "<IPython.core.display.HTML object>"
            ]
          },
          "metadata": {
            "tags": []
          }
        },
        {
          "output_type": "stream",
          "text": [
            "Saving kaggle.json to kaggle.json\n"
          ],
          "name": "stdout"
        }
      ]
    },
    {
      "cell_type": "code",
      "metadata": {
        "id": "3UU6Q38bk_fC",
        "colab_type": "code",
        "colab": {}
      },
      "source": [
        "!pip install -q kaggle\n",
        "!mkdir -p ~/.kaggle\n",
        "!cp kaggle.json ~/.kaggle/\n",
        "!chmod 600 ~/.kaggle/kaggle.json"
      ],
      "execution_count": 0,
      "outputs": []
    },
    {
      "cell_type": "code",
      "metadata": {
        "id": "xy4whcFmn5Oj",
        "colab_type": "code",
        "outputId": "75ae27f7-5e45-4f13-bca2-7a8179b492fb",
        "colab": {
          "base_uri": "https://localhost:8080/",
          "height": 428
        }
      },
      "source": [
        "!kaggle datasets list"
      ],
      "execution_count": 0,
      "outputs": [
        {
          "output_type": "stream",
          "text": [
            "Warning: Looks like you're using an outdated API Version, please consider updating (server 1.5.6 / client 1.5.4)\n",
            "ref                                                      title                                               size  lastUpdated          downloadCount  \n",
            "-------------------------------------------------------  -------------------------------------------------  -----  -------------------  -------------  \n",
            "gustavomodelli/forest-fires-in-brazil                    Forest Fires in Brazil                              31KB  2019-08-24 16:09:16          18543  \n",
            "rajeevw/ufcdata                                          UFC-Fight historical data from 1993 to 2019          3MB  2019-07-05 09:58:02          12949  \n",
            "tristan581/17k-apple-app-store-strategy-games            17K Mobile Strategy Games                            8MB  2019-08-26 08:22:16          14349  \n",
            "chirin/africa-economic-banking-and-systemic-crisis-data  Africa Economic, Banking and Systemic Crisis Data   14KB  2019-07-21 02:00:17           6648  \n",
            "akhilv11/border-crossing-entry-data                      Border Crossing Entry Data                           4MB  2019-08-21 14:51:34           7282  \n",
            "kapilverma/hindi-bible                                   Hindi Bible                                          5MB  2019-09-07 18:04:35            550  \n",
            "ruslankl/european-union-lgbt-survey-2012                 EU LGBT Survey                                     610KB  2019-07-19 11:15:25           2554  \n",
            "shuyangli94/food-com-recipes-and-user-interactions       Food.com Recipes and Interactions                  267MB  2019-11-08 01:18:21           5088  \n",
            "hmavrodiev/sofia-air-quality-dataset                     Sofia air quality dataset                            3GB  2019-09-14 05:48:09           2322  \n",
            "mabusalah/brent-oil-prices                               Brent Oil Prices                                    38KB  2019-10-14 12:31:05           3203  \n",
            "smid80/canadian-federal-election-results-timeseries      Canadian Federal Election Results (Timeseries)      18MB  2019-10-09 11:08:29           1245  \n",
            "nitinsss/military-expenditure-of-countries-19602019      Military Spending of Countries (1960-2019)          55KB  2019-10-10 12:17:37           5463  \n",
            "jojoker/singapore-airbnb                                 Singapore Airbnb                                   350KB  2019-09-25 22:05:44           4203  \n",
            "pascalbliem/european-social-survey-ess-8-ed21-201617     European Social Survey (ESS) 8 ed2.1 (2016/17)      10MB  2019-09-29 07:30:37           1393  \n",
            "brkurzawa/us-breweries                                   US Breweries                                        76KB  2019-10-02 03:15:27           3667  \n",
            "irinachuchueva/russian-wholesale-electricity-market      Russian Wholesale Electricity Market                 1MB  2019-10-09 08:20:57           1334  \n",
            "srikantsahu/co2-and-ghg-emission-data                    CO2 and GHG emission data                           91KB  2019-09-26 20:10:59           3299  \n",
            "grikomsn/amazon-cell-phones-reviews                      Amazon Cell Phones Reviews                          10MB  2019-09-29 02:26:48           5136  \n",
            "timoboz/random-numbers                                   Random numbers                                     123MB  2019-11-29 03:01:13             72  \n",
            "valentynsichkar/traffic-signs-preprocessed               Traffic Signs Preprocessed                           4GB  2019-08-31 18:22:11           2283  \n"
          ],
          "name": "stdout"
        }
      ]
    },
    {
      "cell_type": "code",
      "metadata": {
        "id": "EUDYJEmWLcva",
        "colab_type": "code",
        "outputId": "9e12905f-6245-4c80-cea1-9977a65edcee",
        "colab": {
          "base_uri": "https://localhost:8080/",
          "height": 428
        }
      },
      "source": [
        "!kaggle datasets list -s movies"
      ],
      "execution_count": 0,
      "outputs": [
        {
          "output_type": "stream",
          "text": [
            "Warning: Looks like you're using an outdated API Version, please consider updating (server 1.5.6 / client 1.5.4)\n",
            "ref                                                  title                                              size  lastUpdated          downloadCount  \n",
            "---------------------------------------------------  ------------------------------------------------  -----  -------------------  -------------  \n",
            "rounakbanik/the-movies-dataset                       The Movies Dataset                                228MB  2017-11-10 02:40:38          70473  \n",
            "orgesleka/imdbmovies                                 IMDB Movies Dataset                               783KB  2016-11-15 14:32:10          11063  \n",
            "tmdb/tmdb-movie-metadata                             TMDB 5000 Movie Dataset                             9MB  2017-09-28 01:09:12         108240  \n",
            "stephanerappeneau/350-000-movies-from-themoviedborg  350 000+ movies from themoviedb.org                67MB  2017-10-12 19:49:17           3266  \n",
            "jrobischon/wikipedia-movie-plots                     Wikipedia Movie Plots                              30MB  2018-10-15 19:59:54           6156  \n",
            "juzershakir/tmdb-movies-dataset                      TMDb Movies Dataset                                 3MB  2018-03-24 04:18:19            840  \n",
            "stefanoleone992/filmtv-movies-dataset                FilmTV movies dataset                              73MB  2019-11-28 21:07:01            695  \n",
            "PromptCloudHQ/imdb-data                              IMDB data from 2006 to 2016                       134KB  2017-06-26 07:32:04          13462  \n",
            "danielgrijalvas/movies                               Movie Industry                                    369KB  2017-10-05 05:47:57           4344  \n",
            "grouplens/movielens-20m-dataset                      MovieLens 20M Dataset                             195MB  2018-08-15 23:09:34          10746  \n",
            "alokdas527/bollywood-movies-analysis                 Bollywood Movies Dataset                          304KB  2019-09-29 20:18:06            317  \n",
            "blastchar/telco-customer-churn                       Telco Customer Churn                              172KB  2018-02-23 18:20:00          38735  \n",
            "utmhikari/doubanmovieshortcomments                   Douban Movie Short Comments Dataset               144MB  2017-03-06 09:39:06           1770  \n",
            "netflix-inc/netflix-prize-data                       Netflix Prize data                                683MB  2019-11-13 18:39:37          26711  \n",
            "prajitdatta/movielens-100k-dataset                   MovieLens 100K Dataset                              5MB  2017-01-05 12:37:32           5646  \n",
            "crescenzo/imdb-movies-through-2018                   IMDB Movies through 2017                            8MB  2018-09-07 02:50:02            170  \n",
            "beyjin/movies-1990-to-2017                           Practice makes master: Movie Collection Analysis   21MB  2019-05-19 07:14:00           1134  \n",
            "miroslavsabo/young-people-survey                     Young People Survey                                84KB  2016-12-06 03:10:30          25996  \n",
            "xvivancos/star-wars-movie-scripts                    Star Wars Movie Scripts                           158KB  2018-05-07 13:57:15           2543  \n",
            "rohitzilla/mcu-movies                                MCU Movies                                          4KB  2019-01-06 19:54:08            126  \n"
          ],
          "name": "stdout"
        }
      ]
    },
    {
      "cell_type": "code",
      "metadata": {
        "id": "IVCAGzy9Osjs",
        "colab_type": "code",
        "outputId": "6a33bb0d-e82c-4bac-8ff0-3299e663782b",
        "colab": {
          "base_uri": "https://localhost:8080/",
          "height": 68
        }
      },
      "source": [
        "!kaggle datasets download -d rounakbanik/the-movies-dataset"
      ],
      "execution_count": 0,
      "outputs": [
        {
          "output_type": "stream",
          "text": [
            "Downloading the-movies-dataset.zip to /content\n",
            " 92% 210M/228M [00:02<00:00, 66.9MB/s]\n",
            "100% 228M/228M [00:02<00:00, 80.3MB/s]\n"
          ],
          "name": "stdout"
        }
      ]
    },
    {
      "cell_type": "code",
      "metadata": {
        "id": "1p3vyDHqO-Yl",
        "colab_type": "code",
        "colab": {}
      },
      "source": [
        "import os \n",
        "import numpy as np\n",
        "import pandas as pd\n",
        "import seaborn as sns\n",
        "import matplotlib.pyplot as plt\n",
        "%matplotlib inline\n",
        "import warnings\n",
        "warnings.filterwarnings('ignore')\n",
        "from zipfile import ZipFile"
      ],
      "execution_count": 0,
      "outputs": []
    },
    {
      "cell_type": "markdown",
      "metadata": {
        "id": "NSgn5VMmP5ZB",
        "colab_type": "text"
      },
      "source": [
        "#DataPreprecessing"
      ]
    },
    {
      "cell_type": "markdown",
      "metadata": {
        "id": "RqKTyaW6OKpb",
        "colab_type": "text"
      },
      "source": [
        "unzip multiple csv file in 'the-movies-dataset.zip' to 'temp_csv' file ."
      ]
    },
    {
      "cell_type": "code",
      "metadata": {
        "id": "bin3Zd1Cd8mF",
        "colab_type": "code",
        "colab": {}
      },
      "source": [
        "with ZipFile('/content/the-movies-dataset.zip', 'r') as zipObj:\n",
        "   # Get a list of all archived file names from the zip\n",
        "   listOfFileNames = zipObj.namelist()\n",
        "   # Iterate over the file names\n",
        "   for fileName in listOfFileNames:\n",
        "       # Check filename endswith csv\n",
        "       if fileName.endswith('.csv'):\n",
        "           # Extract a single file from zip\n",
        "           zipObj.extract(fileName, 'temp_csv')"
      ],
      "execution_count": 0,
      "outputs": []
    },
    {
      "cell_type": "markdown",
      "metadata": {
        "id": "OavmiwfdOpsw",
        "colab_type": "text"
      },
      "source": [
        "read each of the csv file in 'temp_csv' to separate variable."
      ]
    },
    {
      "cell_type": "code",
      "metadata": {
        "id": "Xw7cPd0bhrej",
        "colab_type": "code",
        "colab": {}
      },
      "source": [
        "credit=pd.read_csv('/content/temp_csv/credits.csv',header=0,sep=',',quotechar='\"')\n",
        "keywords=pd.read_csv('/content/temp_csv/keywords.csv',header=0,sep=',',quotechar='\"')\n",
        "links=pd.read_csv('/content/temp_csv/links.csv')\n",
        "links_small=pd.read_csv('/content/temp_csv/links_small.csv',header=0,sep=',',quotechar='\"')\n",
        "movies_metadata=pd.read_csv('/content/temp_csv/movies_metadata.csv',header=0,sep=',',quotechar='\"')\n",
        "ratings=pd.read_csv('/content/temp_csv/ratings.csv',header=0,sep=',',quotechar='\"')\n",
        "ratings_small=pd.read_csv('/content/temp_csv/ratings_small.csv',header=0,sep=',',quotechar='\"')"
      ],
      "execution_count": 0,
      "outputs": []
    },
    {
      "cell_type": "code",
      "metadata": {
        "id": "v2AXXI_ofW0b",
        "colab_type": "code",
        "outputId": "f62adb61-2df7-43ed-c356-763854539e77",
        "colab": {
          "base_uri": "https://localhost:8080/",
          "height": 34
        }
      },
      "source": [
        "movies_metadata.shape"
      ],
      "execution_count": 0,
      "outputs": [
        {
          "output_type": "execute_result",
          "data": {
            "text/plain": [
              "(45466, 24)"
            ]
          },
          "metadata": {
            "tags": []
          },
          "execution_count": 9
        }
      ]
    },
    {
      "cell_type": "code",
      "metadata": {
        "id": "9f4XegEHlIhG",
        "colab_type": "code",
        "outputId": "38f60135-5983-4b19-c7be-371f01ef713f",
        "colab": {
          "base_uri": "https://localhost:8080/",
          "height": 932
        }
      },
      "source": [
        "movies_metadata.head().transpose() # let's have a brief look at 24 features of movies_metadata."
      ],
      "execution_count": 0,
      "outputs": [
        {
          "output_type": "execute_result",
          "data": {
            "text/html": [
              "<div>\n",
              "<style scoped>\n",
              "    .dataframe tbody tr th:only-of-type {\n",
              "        vertical-align: middle;\n",
              "    }\n",
              "\n",
              "    .dataframe tbody tr th {\n",
              "        vertical-align: top;\n",
              "    }\n",
              "\n",
              "    .dataframe thead th {\n",
              "        text-align: right;\n",
              "    }\n",
              "</style>\n",
              "<table border=\"1\" class=\"dataframe\">\n",
              "  <thead>\n",
              "    <tr style=\"text-align: right;\">\n",
              "      <th></th>\n",
              "      <th>0</th>\n",
              "      <th>1</th>\n",
              "      <th>2</th>\n",
              "      <th>3</th>\n",
              "      <th>4</th>\n",
              "    </tr>\n",
              "  </thead>\n",
              "  <tbody>\n",
              "    <tr>\n",
              "      <th>adult</th>\n",
              "      <td>False</td>\n",
              "      <td>False</td>\n",
              "      <td>False</td>\n",
              "      <td>False</td>\n",
              "      <td>False</td>\n",
              "    </tr>\n",
              "    <tr>\n",
              "      <th>belongs_to_collection</th>\n",
              "      <td>{'id': 10194, 'name': 'Toy Story Collection', ...</td>\n",
              "      <td>NaN</td>\n",
              "      <td>{'id': 119050, 'name': 'Grumpy Old Men Collect...</td>\n",
              "      <td>NaN</td>\n",
              "      <td>{'id': 96871, 'name': 'Father of the Bride Col...</td>\n",
              "    </tr>\n",
              "    <tr>\n",
              "      <th>budget</th>\n",
              "      <td>30000000</td>\n",
              "      <td>65000000</td>\n",
              "      <td>0</td>\n",
              "      <td>16000000</td>\n",
              "      <td>0</td>\n",
              "    </tr>\n",
              "    <tr>\n",
              "      <th>genres</th>\n",
              "      <td>[{'id': 16, 'name': 'Animation'}, {'id': 35, '...</td>\n",
              "      <td>[{'id': 12, 'name': 'Adventure'}, {'id': 14, '...</td>\n",
              "      <td>[{'id': 10749, 'name': 'Romance'}, {'id': 35, ...</td>\n",
              "      <td>[{'id': 35, 'name': 'Comedy'}, {'id': 18, 'nam...</td>\n",
              "      <td>[{'id': 35, 'name': 'Comedy'}]</td>\n",
              "    </tr>\n",
              "    <tr>\n",
              "      <th>homepage</th>\n",
              "      <td>http://toystory.disney.com/toy-story</td>\n",
              "      <td>NaN</td>\n",
              "      <td>NaN</td>\n",
              "      <td>NaN</td>\n",
              "      <td>NaN</td>\n",
              "    </tr>\n",
              "    <tr>\n",
              "      <th>id</th>\n",
              "      <td>862</td>\n",
              "      <td>8844</td>\n",
              "      <td>15602</td>\n",
              "      <td>31357</td>\n",
              "      <td>11862</td>\n",
              "    </tr>\n",
              "    <tr>\n",
              "      <th>imdb_id</th>\n",
              "      <td>tt0114709</td>\n",
              "      <td>tt0113497</td>\n",
              "      <td>tt0113228</td>\n",
              "      <td>tt0114885</td>\n",
              "      <td>tt0113041</td>\n",
              "    </tr>\n",
              "    <tr>\n",
              "      <th>original_language</th>\n",
              "      <td>en</td>\n",
              "      <td>en</td>\n",
              "      <td>en</td>\n",
              "      <td>en</td>\n",
              "      <td>en</td>\n",
              "    </tr>\n",
              "    <tr>\n",
              "      <th>original_title</th>\n",
              "      <td>Toy Story</td>\n",
              "      <td>Jumanji</td>\n",
              "      <td>Grumpier Old Men</td>\n",
              "      <td>Waiting to Exhale</td>\n",
              "      <td>Father of the Bride Part II</td>\n",
              "    </tr>\n",
              "    <tr>\n",
              "      <th>overview</th>\n",
              "      <td>Led by Woody, Andy's toys live happily in his ...</td>\n",
              "      <td>When siblings Judy and Peter discover an encha...</td>\n",
              "      <td>A family wedding reignites the ancient feud be...</td>\n",
              "      <td>Cheated on, mistreated and stepped on, the wom...</td>\n",
              "      <td>Just when George Banks has recovered from his ...</td>\n",
              "    </tr>\n",
              "    <tr>\n",
              "      <th>popularity</th>\n",
              "      <td>21.9469</td>\n",
              "      <td>17.0155</td>\n",
              "      <td>11.7129</td>\n",
              "      <td>3.85949</td>\n",
              "      <td>8.38752</td>\n",
              "    </tr>\n",
              "    <tr>\n",
              "      <th>poster_path</th>\n",
              "      <td>/rhIRbceoE9lR4veEXuwCC2wARtG.jpg</td>\n",
              "      <td>/vzmL6fP7aPKNKPRTFnZmiUfciyV.jpg</td>\n",
              "      <td>/6ksm1sjKMFLbO7UY2i6G1ju9SML.jpg</td>\n",
              "      <td>/16XOMpEaLWkrcPqSQqhTmeJuqQl.jpg</td>\n",
              "      <td>/e64sOI48hQXyru7naBFyssKFxVd.jpg</td>\n",
              "    </tr>\n",
              "    <tr>\n",
              "      <th>production_companies</th>\n",
              "      <td>[{'name': 'Pixar Animation Studios', 'id': 3}]</td>\n",
              "      <td>[{'name': 'TriStar Pictures', 'id': 559}, {'na...</td>\n",
              "      <td>[{'name': 'Warner Bros.', 'id': 6194}, {'name'...</td>\n",
              "      <td>[{'name': 'Twentieth Century Fox Film Corporat...</td>\n",
              "      <td>[{'name': 'Sandollar Productions', 'id': 5842}...</td>\n",
              "    </tr>\n",
              "    <tr>\n",
              "      <th>production_countries</th>\n",
              "      <td>[{'iso_3166_1': 'US', 'name': 'United States o...</td>\n",
              "      <td>[{'iso_3166_1': 'US', 'name': 'United States o...</td>\n",
              "      <td>[{'iso_3166_1': 'US', 'name': 'United States o...</td>\n",
              "      <td>[{'iso_3166_1': 'US', 'name': 'United States o...</td>\n",
              "      <td>[{'iso_3166_1': 'US', 'name': 'United States o...</td>\n",
              "    </tr>\n",
              "    <tr>\n",
              "      <th>release_date</th>\n",
              "      <td>1995-10-30</td>\n",
              "      <td>1995-12-15</td>\n",
              "      <td>1995-12-22</td>\n",
              "      <td>1995-12-22</td>\n",
              "      <td>1995-02-10</td>\n",
              "    </tr>\n",
              "    <tr>\n",
              "      <th>revenue</th>\n",
              "      <td>3.73554e+08</td>\n",
              "      <td>2.62797e+08</td>\n",
              "      <td>0</td>\n",
              "      <td>8.14522e+07</td>\n",
              "      <td>7.65789e+07</td>\n",
              "    </tr>\n",
              "    <tr>\n",
              "      <th>runtime</th>\n",
              "      <td>81</td>\n",
              "      <td>104</td>\n",
              "      <td>101</td>\n",
              "      <td>127</td>\n",
              "      <td>106</td>\n",
              "    </tr>\n",
              "    <tr>\n",
              "      <th>spoken_languages</th>\n",
              "      <td>[{'iso_639_1': 'en', 'name': 'English'}]</td>\n",
              "      <td>[{'iso_639_1': 'en', 'name': 'English'}, {'iso...</td>\n",
              "      <td>[{'iso_639_1': 'en', 'name': 'English'}]</td>\n",
              "      <td>[{'iso_639_1': 'en', 'name': 'English'}]</td>\n",
              "      <td>[{'iso_639_1': 'en', 'name': 'English'}]</td>\n",
              "    </tr>\n",
              "    <tr>\n",
              "      <th>status</th>\n",
              "      <td>Released</td>\n",
              "      <td>Released</td>\n",
              "      <td>Released</td>\n",
              "      <td>Released</td>\n",
              "      <td>Released</td>\n",
              "    </tr>\n",
              "    <tr>\n",
              "      <th>tagline</th>\n",
              "      <td>NaN</td>\n",
              "      <td>Roll the dice and unleash the excitement!</td>\n",
              "      <td>Still Yelling. Still Fighting. Still Ready for...</td>\n",
              "      <td>Friends are the people who let you be yourself...</td>\n",
              "      <td>Just When His World Is Back To Normal... He's ...</td>\n",
              "    </tr>\n",
              "    <tr>\n",
              "      <th>title</th>\n",
              "      <td>Toy Story</td>\n",
              "      <td>Jumanji</td>\n",
              "      <td>Grumpier Old Men</td>\n",
              "      <td>Waiting to Exhale</td>\n",
              "      <td>Father of the Bride Part II</td>\n",
              "    </tr>\n",
              "    <tr>\n",
              "      <th>video</th>\n",
              "      <td>False</td>\n",
              "      <td>False</td>\n",
              "      <td>False</td>\n",
              "      <td>False</td>\n",
              "      <td>False</td>\n",
              "    </tr>\n",
              "    <tr>\n",
              "      <th>vote_average</th>\n",
              "      <td>7.7</td>\n",
              "      <td>6.9</td>\n",
              "      <td>6.5</td>\n",
              "      <td>6.1</td>\n",
              "      <td>5.7</td>\n",
              "    </tr>\n",
              "    <tr>\n",
              "      <th>vote_count</th>\n",
              "      <td>5415</td>\n",
              "      <td>2413</td>\n",
              "      <td>92</td>\n",
              "      <td>34</td>\n",
              "      <td>173</td>\n",
              "    </tr>\n",
              "  </tbody>\n",
              "</table>\n",
              "</div>"
            ],
            "text/plain": [
              "                                                                       0  ...                                                  4\n",
              "adult                                                              False  ...                                              False\n",
              "belongs_to_collection  {'id': 10194, 'name': 'Toy Story Collection', ...  ...  {'id': 96871, 'name': 'Father of the Bride Col...\n",
              "budget                                                          30000000  ...                                                  0\n",
              "genres                 [{'id': 16, 'name': 'Animation'}, {'id': 35, '...  ...                     [{'id': 35, 'name': 'Comedy'}]\n",
              "homepage                            http://toystory.disney.com/toy-story  ...                                                NaN\n",
              "id                                                                   862  ...                                              11862\n",
              "imdb_id                                                        tt0114709  ...                                          tt0113041\n",
              "original_language                                                     en  ...                                                 en\n",
              "original_title                                                 Toy Story  ...                        Father of the Bride Part II\n",
              "overview               Led by Woody, Andy's toys live happily in his ...  ...  Just when George Banks has recovered from his ...\n",
              "popularity                                                       21.9469  ...                                            8.38752\n",
              "poster_path                             /rhIRbceoE9lR4veEXuwCC2wARtG.jpg  ...                   /e64sOI48hQXyru7naBFyssKFxVd.jpg\n",
              "production_companies      [{'name': 'Pixar Animation Studios', 'id': 3}]  ...  [{'name': 'Sandollar Productions', 'id': 5842}...\n",
              "production_countries   [{'iso_3166_1': 'US', 'name': 'United States o...  ...  [{'iso_3166_1': 'US', 'name': 'United States o...\n",
              "release_date                                                  1995-10-30  ...                                         1995-02-10\n",
              "revenue                                                      3.73554e+08  ...                                        7.65789e+07\n",
              "runtime                                                               81  ...                                                106\n",
              "spoken_languages                [{'iso_639_1': 'en', 'name': 'English'}]  ...           [{'iso_639_1': 'en', 'name': 'English'}]\n",
              "status                                                          Released  ...                                           Released\n",
              "tagline                                                              NaN  ...  Just When His World Is Back To Normal... He's ...\n",
              "title                                                          Toy Story  ...                        Father of the Bride Part II\n",
              "video                                                              False  ...                                              False\n",
              "vote_average                                                         7.7  ...                                                5.7\n",
              "vote_count                                                          5415  ...                                                173\n",
              "\n",
              "[24 rows x 5 columns]"
            ]
          },
          "metadata": {
            "tags": []
          },
          "execution_count": 10
        }
      ]
    },
    {
      "cell_type": "code",
      "metadata": {
        "id": "iUAvW9fRdWTX",
        "colab_type": "code",
        "outputId": "94cb1370-c5d1-4f52-a115-beb89d3397f1",
        "colab": {
          "base_uri": "https://localhost:8080/",
          "height": 136
        }
      },
      "source": [
        "movies_metadata.columns  #name of columns in movies_metadata"
      ],
      "execution_count": 0,
      "outputs": [
        {
          "output_type": "execute_result",
          "data": {
            "text/plain": [
              "Index(['adult', 'belongs_to_collection', 'budget', 'genres', 'homepage', 'id',\n",
              "       'imdb_id', 'original_language', 'original_title', 'overview',\n",
              "       'popularity', 'poster_path', 'production_companies',\n",
              "       'production_countries', 'release_date', 'revenue', 'runtime',\n",
              "       'spoken_languages', 'status', 'tagline', 'title', 'video',\n",
              "       'vote_average', 'vote_count'],\n",
              "      dtype='object')"
            ]
          },
          "metadata": {
            "tags": []
          },
          "execution_count": 11
        }
      ]
    },
    {
      "cell_type": "code",
      "metadata": {
        "id": "_INXorvweWrH",
        "colab_type": "code",
        "outputId": "cf9a8e2f-9ea9-4241-9f7b-7f2cac16bd10",
        "colab": {
          "base_uri": "https://localhost:8080/",
          "height": 510
        }
      },
      "source": [
        "movies_metadata.info() # info of movies_metadata dataset data_type."
      ],
      "execution_count": 0,
      "outputs": [
        {
          "output_type": "stream",
          "text": [
            "<class 'pandas.core.frame.DataFrame'>\n",
            "RangeIndex: 45466 entries, 0 to 45465\n",
            "Data columns (total 24 columns):\n",
            "adult                    45466 non-null object\n",
            "belongs_to_collection    4494 non-null object\n",
            "budget                   45466 non-null object\n",
            "genres                   45466 non-null object\n",
            "homepage                 7782 non-null object\n",
            "id                       45466 non-null object\n",
            "imdb_id                  45449 non-null object\n",
            "original_language        45455 non-null object\n",
            "original_title           45466 non-null object\n",
            "overview                 44512 non-null object\n",
            "popularity               45461 non-null object\n",
            "poster_path              45080 non-null object\n",
            "production_companies     45463 non-null object\n",
            "production_countries     45463 non-null object\n",
            "release_date             45379 non-null object\n",
            "revenue                  45460 non-null float64\n",
            "runtime                  45203 non-null float64\n",
            "spoken_languages         45460 non-null object\n",
            "status                   45379 non-null object\n",
            "tagline                  20412 non-null object\n",
            "title                    45460 non-null object\n",
            "video                    45460 non-null object\n",
            "vote_average             45460 non-null float64\n",
            "vote_count               45460 non-null float64\n",
            "dtypes: float64(4), object(20)\n",
            "memory usage: 8.3+ MB\n"
          ],
          "name": "stdout"
        }
      ]
    },
    {
      "cell_type": "code",
      "metadata": {
        "id": "AbNAgRVSfmMS",
        "colab_type": "code",
        "outputId": "56e6d46e-8257-441d-cdac-81c400b6d5f8",
        "colab": {
          "base_uri": "https://localhost:8080/",
          "height": 204
        }
      },
      "source": [
        "#'title' and 'original_title' looks-alike ,let's examine it.\n",
        "movies_metadata[movies_metadata['original_title']!=movies_metadata['title']][['title','original_title']].head()"
      ],
      "execution_count": 0,
      "outputs": [
        {
          "output_type": "execute_result",
          "data": {
            "text/html": [
              "<div>\n",
              "<style scoped>\n",
              "    .dataframe tbody tr th:only-of-type {\n",
              "        vertical-align: middle;\n",
              "    }\n",
              "\n",
              "    .dataframe tbody tr th {\n",
              "        vertical-align: top;\n",
              "    }\n",
              "\n",
              "    .dataframe thead th {\n",
              "        text-align: right;\n",
              "    }\n",
              "</style>\n",
              "<table border=\"1\" class=\"dataframe\">\n",
              "  <thead>\n",
              "    <tr style=\"text-align: right;\">\n",
              "      <th></th>\n",
              "      <th>title</th>\n",
              "      <th>original_title</th>\n",
              "    </tr>\n",
              "  </thead>\n",
              "  <tbody>\n",
              "    <tr>\n",
              "      <th>28</th>\n",
              "      <td>The City of Lost Children</td>\n",
              "      <td>La Cité des Enfants Perdus</td>\n",
              "    </tr>\n",
              "    <tr>\n",
              "      <th>29</th>\n",
              "      <td>Shanghai Triad</td>\n",
              "      <td>摇啊摇，摇到外婆桥</td>\n",
              "    </tr>\n",
              "    <tr>\n",
              "      <th>32</th>\n",
              "      <td>Wings of Courage</td>\n",
              "      <td>Guillaumet, les ailes du courage</td>\n",
              "    </tr>\n",
              "    <tr>\n",
              "      <th>57</th>\n",
              "      <td>The Postman</td>\n",
              "      <td>Il postino</td>\n",
              "    </tr>\n",
              "    <tr>\n",
              "      <th>58</th>\n",
              "      <td>The Confessional</td>\n",
              "      <td>Le confessionnal</td>\n",
              "    </tr>\n",
              "  </tbody>\n",
              "</table>\n",
              "</div>"
            ],
            "text/plain": [
              "                        title                    original_title\n",
              "28  The City of Lost Children        La Cité des Enfants Perdus\n",
              "29             Shanghai Triad                         摇啊摇，摇到外婆桥\n",
              "32           Wings of Courage  Guillaumet, les ailes du courage\n",
              "57                The Postman                        Il postino\n",
              "58           The Confessional                  Le confessionnal"
            ]
          },
          "metadata": {
            "tags": []
          },
          "execution_count": 13
        }
      ]
    },
    {
      "cell_type": "markdown",
      "metadata": {
        "id": "uJvx5OwCg8pT",
        "colab_type": "text"
      },
      "source": [
        "'original_title':Title of the movie in native language.         \n",
        "'title':Translated name in english,so it is readable by everyone.   \n",
        "\n",
        "*drop 'original_title' and keep 'title' feature as \n",
        "there is no loss of information in doing so.\n"
      ]
    },
    {
      "cell_type": "code",
      "metadata": {
        "id": "AMumevA_g7c4",
        "colab_type": "code",
        "colab": {}
      },
      "source": [
        "movies_metadata=movies_metadata.drop('original_title',axis=1) #drop 'original_title' column from movies_ metadata"
      ],
      "execution_count": 0,
      "outputs": []
    },
    {
      "cell_type": "code",
      "metadata": {
        "id": "oiihaW2Bgobc",
        "colab_type": "code",
        "colab": {}
      },
      "source": [
        "#also there will be no use of 'imdb_id' so we can remove it.\n",
        "movies_metadata=movies_metadata.drop('imdb_id',axis=1)"
      ],
      "execution_count": 0,
      "outputs": []
    },
    {
      "cell_type": "code",
      "metadata": {
        "id": "LG1Cd2HtrDWj",
        "colab_type": "code",
        "outputId": "a074d817-e782-4d2c-b606-030e7855fc5f",
        "colab": {
          "base_uri": "https://localhost:8080/",
          "height": 34
        }
      },
      "source": [
        "#'revenue' in movies_metadata have lots value is zero.\n",
        "movies_metadata[movies_metadata['revenue']==0].shape"
      ],
      "execution_count": 0,
      "outputs": [
        {
          "output_type": "execute_result",
          "data": {
            "text/plain": [
              "(38052, 22)"
            ]
          },
          "metadata": {
            "tags": []
          },
          "execution_count": 16
        }
      ]
    },
    {
      "cell_type": "markdown",
      "metadata": {
        "id": "MBmf1zV7FBR8",
        "colab_type": "text"
      },
      "source": [
        "out of 45000 row in 'revenue' column, 38000 is zeros that means we have no information of the total revenue collected by the movie . but we still use revenue as an important feature as more the revenue more popular the movie.\n",
        "so,we will convert the zero in 'revenue' with null."
      ]
    },
    {
      "cell_type": "code",
      "metadata": {
        "id": "cCq16KalHQUa",
        "colab_type": "code",
        "colab": {}
      },
      "source": [
        "movies_metadata['revenue']=movies_metadata['revenue'].replace(0,np.nan) #convert "
      ],
      "execution_count": 0,
      "outputs": []
    },
    {
      "cell_type": "code",
      "metadata": {
        "id": "fDZguDNuHyBJ",
        "colab_type": "code",
        "colab": {}
      },
      "source": [
        ""
      ],
      "execution_count": 0,
      "outputs": []
    },
    {
      "cell_type": "code",
      "metadata": {
        "id": "XgKBqF5FJ6Vw",
        "colab_type": "code",
        "outputId": "763d45e7-16be-4660-9ccf-795f02b572ef",
        "colab": {
          "base_uri": "https://localhost:8080/",
          "height": 34
        }
      },
      "source": [
        "#Budget feature is object type due to some useless data ,so we have to convert those unclean data into numeric variable and replace all the non-numeric values with NaN. \n",
        "movies_metadata['budget']=pd.to_numeric(movies_metadata['budget'],errors='coerce')\n",
        "movies_metadata['budget']=movies_metadata['budget'].replace(0,np.nan)\n",
        "movies_metadata[movies_metadata['budget'].isnull()].shape"
      ],
      "execution_count": 0,
      "outputs": [
        {
          "output_type": "execute_result",
          "data": {
            "text/plain": [
              "(36576, 22)"
            ]
          },
          "metadata": {
            "tags": []
          },
          "execution_count": 18
        }
      ]
    },
    {
      "cell_type": "markdown",
      "metadata": {
        "id": "9moFfeksrXS0",
        "colab_type": "text"
      },
      "source": [
        "As we already discussed that revenue and budget plays as a very important feature,as if the ratio of revenue to budget will be greater than 1 then it indicate profit whereas a return of less than 1 will indicate loss."
      ]
    },
    {
      "cell_type": "code",
      "metadata": {
        "id": "sTA2rax-rzcU",
        "colab_type": "code",
        "outputId": "5bcf0fc6-2b35-4f2e-b779-e6c9cb9645f4",
        "colab": {
          "base_uri": "https://localhost:8080/",
          "height": 34
        }
      },
      "source": [
        "#'earning' column will show whether the movies will be in profit or loss.\n",
        "\n",
        "movies_metadata['earnings']=movies_metadata['revenue']/movies_metadata['budget']\n",
        "movies_metadata[movies_metadata['earnings'].isnull()].shape"
      ],
      "execution_count": 0,
      "outputs": [
        {
          "output_type": "execute_result",
          "data": {
            "text/plain": [
              "(40085, 23)"
            ]
          },
          "metadata": {
            "tags": []
          },
          "execution_count": 19
        }
      ]
    },
    {
      "cell_type": "markdown",
      "metadata": {
        "id": "JYwNw1Aiwqcy",
        "colab_type": "text"
      },
      "source": [
        "We have only around 5000 movies data for which we have revenue and budget ratio."
      ]
    },
    {
      "cell_type": "code",
      "metadata": {
        "id": "uqV1biF8rzZA",
        "colab_type": "code",
        "colab": {}
      },
      "source": [
        ""
      ],
      "execution_count": 0,
      "outputs": []
    },
    {
      "cell_type": "markdown",
      "metadata": {
        "id": "GrGPtnZbpzfu",
        "colab_type": "text"
      },
      "source": [
        "'release_date' gives the date on which the movie was released , then we can extract the year in which the movie was released as a broad and efficient division which will we a valuable categorical feature."
      ]
    },
    {
      "cell_type": "code",
      "metadata": {
        "id": "trSm69iXJ6K2",
        "colab_type": "code",
        "colab": {}
      },
      "source": [
        "movies_metadata['year']=pd.to_datetime(movies_metadata['release_date'],errors='coerce').apply(lambda x:str(x).split('-')[0] if x!=np.nan else np.nan)"
      ],
      "execution_count": 0,
      "outputs": []
    },
    {
      "cell_type": "markdown",
      "metadata": {
        "id": "qq7zsy_bvhXE",
        "colab_type": "text"
      },
      "source": [
        ""
      ]
    },
    {
      "cell_type": "code",
      "metadata": {
        "id": "jh0g-_5Yvh9P",
        "colab_type": "code",
        "outputId": "bc2f5792-9a31-4ed5-cf5f-67174627ca51",
        "colab": {
          "base_uri": "https://localhost:8080/",
          "height": 305
        }
      },
      "source": [
        "sns.set(style=\"darkgrid\")\n",
        "ax = sns.countplot(y=\"adult\", data=movies_metadata)"
      ],
      "execution_count": 0,
      "outputs": [
        {
          "output_type": "display_data",
          "data": {
            "image/png": "[encoded data removed]",
            "text/plain": [
              "<Figure size 432x288 with 1 Axes>"
            ]
          },
          "metadata": {
            "tags": []
          }
        }
      ]
    },
    {
      "cell_type": "markdown",
      "metadata": {
        "id": "pie_ftSUJNQd",
        "colab_type": "text"
      },
      "source": [
        "from the count_plot there are approximately zero adult movies in the dataset."
      ]
    },
    {
      "cell_type": "code",
      "metadata": {
        "id": "gUc9iMVxJdHS",
        "colab_type": "code",
        "colab": {}
      },
      "source": [
        "#drop the 'adult' feature.\n",
        "movies_metadata=movies_metadata.drop('adult',axis=1)"
      ],
      "execution_count": 0,
      "outputs": []
    },
    {
      "cell_type": "code",
      "metadata": {
        "id": "rEokWVEhOBu7",
        "colab_type": "code",
        "outputId": "41fbddf2-3e4e-4e4f-90dc-378a52102c95",
        "colab": {
          "base_uri": "https://localhost:8080/",
          "height": 884
        }
      },
      "source": [
        "movies_metadata.head().transpose()"
      ],
      "execution_count": 0,
      "outputs": [
        {
          "output_type": "execute_result",
          "data": {
            "text/html": [
              "<div>\n",
              "<style scoped>\n",
              "    .dataframe tbody tr th:only-of-type {\n",
              "        vertical-align: middle;\n",
              "    }\n",
              "\n",
              "    .dataframe tbody tr th {\n",
              "        vertical-align: top;\n",
              "    }\n",
              "\n",
              "    .dataframe thead th {\n",
              "        text-align: right;\n",
              "    }\n",
              "</style>\n",
              "<table border=\"1\" class=\"dataframe\">\n",
              "  <thead>\n",
              "    <tr style=\"text-align: right;\">\n",
              "      <th></th>\n",
              "      <th>0</th>\n",
              "      <th>1</th>\n",
              "      <th>2</th>\n",
              "      <th>3</th>\n",
              "      <th>4</th>\n",
              "    </tr>\n",
              "  </thead>\n",
              "  <tbody>\n",
              "    <tr>\n",
              "      <th>belongs_to_collection</th>\n",
              "      <td>{'id': 10194, 'name': 'Toy Story Collection', ...</td>\n",
              "      <td>NaN</td>\n",
              "      <td>{'id': 119050, 'name': 'Grumpy Old Men Collect...</td>\n",
              "      <td>NaN</td>\n",
              "      <td>{'id': 96871, 'name': 'Father of the Bride Col...</td>\n",
              "    </tr>\n",
              "    <tr>\n",
              "      <th>budget</th>\n",
              "      <td>3e+07</td>\n",
              "      <td>6.5e+07</td>\n",
              "      <td>NaN</td>\n",
              "      <td>1.6e+07</td>\n",
              "      <td>NaN</td>\n",
              "    </tr>\n",
              "    <tr>\n",
              "      <th>genres</th>\n",
              "      <td>[{'id': 16, 'name': 'Animation'}, {'id': 35, '...</td>\n",
              "      <td>[{'id': 12, 'name': 'Adventure'}, {'id': 14, '...</td>\n",
              "      <td>[{'id': 10749, 'name': 'Romance'}, {'id': 35, ...</td>\n",
              "      <td>[{'id': 35, 'name': 'Comedy'}, {'id': 18, 'nam...</td>\n",
              "      <td>[{'id': 35, 'name': 'Comedy'}]</td>\n",
              "    </tr>\n",
              "    <tr>\n",
              "      <th>homepage</th>\n",
              "      <td>http://toystory.disney.com/toy-story</td>\n",
              "      <td>NaN</td>\n",
              "      <td>NaN</td>\n",
              "      <td>NaN</td>\n",
              "      <td>NaN</td>\n",
              "    </tr>\n",
              "    <tr>\n",
              "      <th>id</th>\n",
              "      <td>862</td>\n",
              "      <td>8844</td>\n",
              "      <td>15602</td>\n",
              "      <td>31357</td>\n",
              "      <td>11862</td>\n",
              "    </tr>\n",
              "    <tr>\n",
              "      <th>original_language</th>\n",
              "      <td>en</td>\n",
              "      <td>en</td>\n",
              "      <td>en</td>\n",
              "      <td>en</td>\n",
              "      <td>en</td>\n",
              "    </tr>\n",
              "    <tr>\n",
              "      <th>overview</th>\n",
              "      <td>Led by Woody, Andy's toys live happily in his ...</td>\n",
              "      <td>When siblings Judy and Peter discover an encha...</td>\n",
              "      <td>A family wedding reignites the ancient feud be...</td>\n",
              "      <td>Cheated on, mistreated and stepped on, the wom...</td>\n",
              "      <td>Just when George Banks has recovered from his ...</td>\n",
              "    </tr>\n",
              "    <tr>\n",
              "      <th>popularity</th>\n",
              "      <td>21.9469</td>\n",
              "      <td>17.0155</td>\n",
              "      <td>11.7129</td>\n",
              "      <td>3.85949</td>\n",
              "      <td>8.38752</td>\n",
              "    </tr>\n",
              "    <tr>\n",
              "      <th>poster_path</th>\n",
              "      <td>&lt;img src='http://image.tmdb.org/t/p/w185//rhIR...</td>\n",
              "      <td>&lt;img src='http://image.tmdb.org/t/p/w185//vzmL...</td>\n",
              "      <td>&lt;img src='http://image.tmdb.org/t/p/w185//6ksm...</td>\n",
              "      <td>&lt;img src='http://image.tmdb.org/t/p/w185//16XO...</td>\n",
              "      <td>&lt;img src='http://image.tmdb.org/t/p/w185//e64s...</td>\n",
              "    </tr>\n",
              "    <tr>\n",
              "      <th>production_companies</th>\n",
              "      <td>[{'name': 'Pixar Animation Studios', 'id': 3}]</td>\n",
              "      <td>[{'name': 'TriStar Pictures', 'id': 559}, {'na...</td>\n",
              "      <td>[{'name': 'Warner Bros.', 'id': 6194}, {'name'...</td>\n",
              "      <td>[{'name': 'Twentieth Century Fox Film Corporat...</td>\n",
              "      <td>[{'name': 'Sandollar Productions', 'id': 5842}...</td>\n",
              "    </tr>\n",
              "    <tr>\n",
              "      <th>production_countries</th>\n",
              "      <td>[{'iso_3166_1': 'US', 'name': 'United States o...</td>\n",
              "      <td>[{'iso_3166_1': 'US', 'name': 'United States o...</td>\n",
              "      <td>[{'iso_3166_1': 'US', 'name': 'United States o...</td>\n",
              "      <td>[{'iso_3166_1': 'US', 'name': 'United States o...</td>\n",
              "      <td>[{'iso_3166_1': 'US', 'name': 'United States o...</td>\n",
              "    </tr>\n",
              "    <tr>\n",
              "      <th>release_date</th>\n",
              "      <td>1995-10-30</td>\n",
              "      <td>1995-12-15</td>\n",
              "      <td>1995-12-22</td>\n",
              "      <td>1995-12-22</td>\n",
              "      <td>1995-02-10</td>\n",
              "    </tr>\n",
              "    <tr>\n",
              "      <th>revenue</th>\n",
              "      <td>3.73554e+08</td>\n",
              "      <td>2.62797e+08</td>\n",
              "      <td>NaN</td>\n",
              "      <td>8.14522e+07</td>\n",
              "      <td>7.65789e+07</td>\n",
              "    </tr>\n",
              "    <tr>\n",
              "      <th>runtime</th>\n",
              "      <td>81</td>\n",
              "      <td>104</td>\n",
              "      <td>101</td>\n",
              "      <td>127</td>\n",
              "      <td>106</td>\n",
              "    </tr>\n",
              "    <tr>\n",
              "      <th>spoken_languages</th>\n",
              "      <td>[{'iso_639_1': 'en', 'name': 'English'}]</td>\n",
              "      <td>[{'iso_639_1': 'en', 'name': 'English'}, {'iso...</td>\n",
              "      <td>[{'iso_639_1': 'en', 'name': 'English'}]</td>\n",
              "      <td>[{'iso_639_1': 'en', 'name': 'English'}]</td>\n",
              "      <td>[{'iso_639_1': 'en', 'name': 'English'}]</td>\n",
              "    </tr>\n",
              "    <tr>\n",
              "      <th>status</th>\n",
              "      <td>Released</td>\n",
              "      <td>Released</td>\n",
              "      <td>Released</td>\n",
              "      <td>Released</td>\n",
              "      <td>Released</td>\n",
              "    </tr>\n",
              "    <tr>\n",
              "      <th>tagline</th>\n",
              "      <td>NaN</td>\n",
              "      <td>Roll the dice and unleash the excitement!</td>\n",
              "      <td>Still Yelling. Still Fighting. Still Ready for...</td>\n",
              "      <td>Friends are the people who let you be yourself...</td>\n",
              "      <td>Just When His World Is Back To Normal... He's ...</td>\n",
              "    </tr>\n",
              "    <tr>\n",
              "      <th>title</th>\n",
              "      <td>Toy Story</td>\n",
              "      <td>Jumanji</td>\n",
              "      <td>Grumpier Old Men</td>\n",
              "      <td>Waiting to Exhale</td>\n",
              "      <td>Father of the Bride Part II</td>\n",
              "    </tr>\n",
              "    <tr>\n",
              "      <th>video</th>\n",
              "      <td>False</td>\n",
              "      <td>False</td>\n",
              "      <td>False</td>\n",
              "      <td>False</td>\n",
              "      <td>False</td>\n",
              "    </tr>\n",
              "    <tr>\n",
              "      <th>vote_average</th>\n",
              "      <td>7.7</td>\n",
              "      <td>6.9</td>\n",
              "      <td>6.5</td>\n",
              "      <td>6.1</td>\n",
              "      <td>5.7</td>\n",
              "    </tr>\n",
              "    <tr>\n",
              "      <th>vote_count</th>\n",
              "      <td>5415</td>\n",
              "      <td>2413</td>\n",
              "      <td>92</td>\n",
              "      <td>34</td>\n",
              "      <td>173</td>\n",
              "    </tr>\n",
              "    <tr>\n",
              "      <th>earnings</th>\n",
              "      <td>12.4518</td>\n",
              "      <td>4.04303</td>\n",
              "      <td>NaN</td>\n",
              "      <td>5.09076</td>\n",
              "      <td>NaN</td>\n",
              "    </tr>\n",
              "    <tr>\n",
              "      <th>year</th>\n",
              "      <td>1995</td>\n",
              "      <td>1995</td>\n",
              "      <td>1995</td>\n",
              "      <td>1995</td>\n",
              "      <td>1995</td>\n",
              "    </tr>\n",
              "  </tbody>\n",
              "</table>\n",
              "</div>"
            ],
            "text/plain": [
              "                                                                       0  ...                                                  4\n",
              "belongs_to_collection  {'id': 10194, 'name': 'Toy Story Collection', ...  ...  {'id': 96871, 'name': 'Father of the Bride Col...\n",
              "budget                                                             3e+07  ...                                                NaN\n",
              "genres                 [{'id': 16, 'name': 'Animation'}, {'id': 35, '...  ...                     [{'id': 35, 'name': 'Comedy'}]\n",
              "homepage                            http://toystory.disney.com/toy-story  ...                                                NaN\n",
              "id                                                                   862  ...                                              11862\n",
              "original_language                                                     en  ...                                                 en\n",
              "overview               Led by Woody, Andy's toys live happily in his ...  ...  Just when George Banks has recovered from his ...\n",
              "popularity                                                       21.9469  ...                                            8.38752\n",
              "poster_path            <img src='http://image.tmdb.org/t/p/w185//rhIR...  ...  <img src='http://image.tmdb.org/t/p/w185//e64s...\n",
              "production_companies      [{'name': 'Pixar Animation Studios', 'id': 3}]  ...  [{'name': 'Sandollar Productions', 'id': 5842}...\n",
              "production_countries   [{'iso_3166_1': 'US', 'name': 'United States o...  ...  [{'iso_3166_1': 'US', 'name': 'United States o...\n",
              "release_date                                                  1995-10-30  ...                                         1995-02-10\n",
              "revenue                                                      3.73554e+08  ...                                        7.65789e+07\n",
              "runtime                                                               81  ...                                                106\n",
              "spoken_languages                [{'iso_639_1': 'en', 'name': 'English'}]  ...           [{'iso_639_1': 'en', 'name': 'English'}]\n",
              "status                                                          Released  ...                                           Released\n",
              "tagline                                                              NaN  ...  Just When His World Is Back To Normal... He's ...\n",
              "title                                                          Toy Story  ...                        Father of the Bride Part II\n",
              "video                                                              False  ...                                              False\n",
              "vote_average                                                         7.7  ...                                                5.7\n",
              "vote_count                                                          5415  ...                                                173\n",
              "earnings                                                         12.4518  ...                                                NaN\n",
              "year                                                                1995  ...                                               1995\n",
              "\n",
              "[23 rows x 5 columns]"
            ]
          },
          "metadata": {
            "tags": []
          },
          "execution_count": 26
        }
      ]
    },
    {
      "cell_type": "code",
      "metadata": {
        "id": "de__oeFgqtqo",
        "colab_type": "code",
        "colab": {}
      },
      "source": [
        ""
      ],
      "execution_count": 0,
      "outputs": []
    }
  ]
}